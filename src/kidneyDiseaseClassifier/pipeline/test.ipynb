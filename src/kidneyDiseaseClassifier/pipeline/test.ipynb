{
 "cells": [
  {
   "cell_type": "code",
   "execution_count": 1,
   "metadata": {},
   "outputs": [
    {
     "data": {
      "text/plain": [
       "'e:\\\\mlops\\\\kidney_app\\\\src\\\\kidneyDiseaseClassifier\\\\pipeline'"
      ]
     },
     "execution_count": 1,
     "metadata": {},
     "output_type": "execute_result"
    }
   ],
   "source": [
    "import os \n",
    "%pwd"
   ]
  },
  {
   "cell_type": "code",
   "execution_count": 5,
   "metadata": {},
   "outputs": [
    {
     "data": {
      "text/plain": [
       "'e:\\\\mlops\\\\kidney_app'"
      ]
     },
     "execution_count": 5,
     "metadata": {},
     "output_type": "execute_result"
    }
   ],
   "source": [
    "os.chdir('../')\n",
    "%pwd"
   ]
  },
  {
   "cell_type": "code",
   "execution_count": 6,
   "metadata": {},
   "outputs": [
    {
     "name": "stdout",
     "output_type": "stream",
     "text": [
      "[2024-08-06 22:16:32,890: INFO: common: yaml file: config\\config.yaml loaded successfully]\n",
      "[2024-08-06 22:16:32,896: INFO: common: yaml file: params.yaml loaded successfully]\n",
      "[2024-08-06 22:16:32,899: INFO: common: created directory at: artifacts]\n",
      "[2024-08-06 22:16:32,901: INFO: common: created directory at: artifacts/data_ingestion]\n",
      "[2024-08-06 22:16:34,047: INFO: 2449113567: >>>>>> Data Ingestion Stage started <<<<<<]\n",
      "[2024-08-06 22:16:34,053: INFO: common: yaml file: config\\config.yaml loaded successfully]\n",
      "[2024-08-06 22:16:34,058: INFO: common: yaml file: params.yaml loaded successfully]\n",
      "[2024-08-06 22:16:34,060: INFO: common: created directory at: artifacts]\n",
      "[2024-08-06 22:16:34,062: INFO: common: created directory at: artifacts/data_ingestion]\n",
      "[2024-08-06 22:16:34,064: INFO: 2449113567: >>>>>> Data Ingestion Stage completed <<<<<<<\n",
      "\n",
      "x========================x]\n"
     ]
    }
   ],
   "source": [
    "from kidneyDiseaseClassifier.config.configuration import ConfigurationManager\n",
    "from kidneyDiseaseClassifier.components.data_ingestion import DataIngestion\n",
    "from kidneyDiseaseClassifier import logger\n",
    "\n",
    "STAGE_NAME = \"Data Ingestion Stage\"\n",
    "\n",
    "class DataIngestionTrainingPipeline:\n",
    "    def __init__(self):\n",
    "        pass\n",
    "\n",
    "    def main(self):\n",
    "        config = ConfigurationManager()\n",
    "        data_ingestion_config = config.get_data_ingestion_config()\n",
    "        data_ingestion = DataIngestion(config=data_ingestion_config)\n",
    "        #data_ingestion.download_file()\n",
    "        #data_ingestion.extract_zip_file()\n",
    "\n",
    "\n",
    "if __name__ == '__main__':\n",
    "    try:\n",
    "        logger.info(f\">>>>>> {STAGE_NAME} started <<<<<<\")\n",
    "        obj = DataIngestionTrainingPipeline()\n",
    "        obj.main()\n",
    "        logger.info(\n",
    "            f\">>>>>> {STAGE_NAME} completed <<<<<<<\\n\\nx========================x\")\n",
    "    except Exception as e:\n",
    "        logger.exception(e)\n",
    "        raise e"
   ]
  },
  {
   "cell_type": "code",
   "execution_count": null,
   "metadata": {},
   "outputs": [],
   "source": []
  }
 ],
 "metadata": {
  "kernelspec": {
   "display_name": "kidney",
   "language": "python",
   "name": "python3"
  },
  "language_info": {
   "codemirror_mode": {
    "name": "ipython",
    "version": 3
   },
   "file_extension": ".py",
   "mimetype": "text/x-python",
   "name": "python",
   "nbconvert_exporter": "python",
   "pygments_lexer": "ipython3",
   "version": "3.8.19"
  }
 },
 "nbformat": 4,
 "nbformat_minor": 2
}
